{
 "cells": [
  {
   "cell_type": "markdown",
   "metadata": {},
   "source": [
    "# Fetching and Loading Data\n",
    "\n",
    "This is a short tutorial showing how to fetch and load data in context.\n",
    "\n",
    "## `fetch()`\n",
    "\n",
    "`fetch()` always returns the path to a specific version of a dataset.\n",
    "\n",
    "If the dataset is not available in the cache, it is downloaded from the [srlearn/datasets](https://github.com/srlearn/datasets/) GitHub repository."
   ]
  },
  {
   "cell_type": "code",
   "execution_count": 1,
   "metadata": {},
   "outputs": [
    {
     "data": {
      "text/plain": [
       "'/home/hayesall/relational_datasets/toy_cancer_v0.0.3.zip'"
      ]
     },
     "execution_count": 1,
     "metadata": {},
     "output_type": "execute_result"
    }
   ],
   "source": [
    "from relational_datasets import fetch\n",
    "\n",
    "fetch('toy_cancer', 'v0.0.3')"
   ]
  },
  {
   "cell_type": "markdown",
   "metadata": {},
   "source": [
    "## `load()`\n",
    "\n",
    "This function uses `fetch()` internally, so if a dataset is unavailable it is downloaded.\n",
    "\n",
    "`load()` returns `train` and `test` folds in the form two `namedtuple`s with `pos`, `neg`, and `facts` keys:\n",
    "\n",
    "```python\n",
    "\n",
    "RelationalDataset = namedtuple(\"RelationalDataset\", ['pos', 'neg', 'facts'])\n",
    "\n",
    "\n",
    "```"
   ]
  },
  {
   "cell_type": "code",
   "execution_count": 2,
   "metadata": {},
   "outputs": [
    {
     "data": {
      "text/plain": [
       "['cancer(alice).', 'cancer(bob).', 'cancer(chuck).', 'cancer(fred).']"
      ]
     },
     "execution_count": 2,
     "metadata": {},
     "output_type": "execute_result"
    }
   ],
   "source": [
    "from relational_datasets import load\n",
    "\n",
    "train, test = load('toy_cancer', 'v0.0.3')\n",
    "\n",
    "train.pos"
   ]
  }
 ],
 "metadata": {
  "kernelspec": {
   "display_name": "Python 3",
   "language": "python",
   "name": "python3"
  },
  "language_info": {
   "codemirror_mode": {
    "name": "ipython",
    "version": 3
   },
   "file_extension": ".py",
   "mimetype": "text/x-python",
   "name": "python",
   "nbconvert_exporter": "python",
   "pygments_lexer": "ipython3",
   "version": "3.7.7"
  }
 },
 "nbformat": 4,
 "nbformat_minor": 4
}
